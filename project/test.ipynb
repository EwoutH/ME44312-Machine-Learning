{
 "cells": [
  {
   "cell_type": "markdown",
   "source": [
    "# Mode Choice Optima"
   ],
   "metadata": {
    "collapsed": false
   }
  },
  {
   "cell_type": "markdown",
   "source": [
    "### Importing data"
   ],
   "metadata": {
    "collapsed": false
   }
  },
  {
   "cell_type": "code",
   "execution_count": 1,
   "metadata": {
    "collapsed": true
   },
   "outputs": [],
   "source": [
    "import pandas as pd"
   ]
  },
  {
   "cell_type": "code",
   "execution_count": 2,
   "outputs": [
    {
     "data": {
      "text/plain": "         ID  DestAct  NbTransf  TimePT  WalkingTimePT  WaitingTimePT  CostPT  \\\n0  10350017        2         4      85             23             10    12.4   \n1  10350020        1         4     108             26             16    12.4   \n2  10350025       11         2      82             33              5     3.0   \n3  10350075        1         3     107             21             31    24.0   \n4  10350085        1         5     190            116             18    10.8   \n\n   CostCar  TimeCar  NbHousehold  ...  FreqTripHouseh  Region  distance_km  \\\n0     3.17       32            2  ...               4       1         30.0   \n1     3.28       30            2  ...               4       1         32.0   \n2     0.45        6           -1  ...               2       1          4.5   \n3     2.36       23            2  ...               1       1         25.0   \n4     1.16       14            3  ...               3       1         12.5   \n\n   Choice  InVehicleTime  ModeToSchool  ReportedDuration  CoderegionCAR  age  \\\n0       1             52             3               255              1   27   \n1      -1             66             3               150              1   28   \n2       0             44            -1                20              1   -1   \n3       1             55            -1                30              1   63   \n4       1             56            -1                20              1   57   \n\n     Weight  \n0  0.000379  \n1  0.000341  \n2  0.000368  \n3  0.000368  \n4  0.000409  \n\n[5 rows x 117 columns]",
      "text/html": "<div>\n<style scoped>\n    .dataframe tbody tr th:only-of-type {\n        vertical-align: middle;\n    }\n\n    .dataframe tbody tr th {\n        vertical-align: top;\n    }\n\n    .dataframe thead th {\n        text-align: right;\n    }\n</style>\n<table border=\"1\" class=\"dataframe\">\n  <thead>\n    <tr style=\"text-align: right;\">\n      <th></th>\n      <th>ID</th>\n      <th>DestAct</th>\n      <th>NbTransf</th>\n      <th>TimePT</th>\n      <th>WalkingTimePT</th>\n      <th>WaitingTimePT</th>\n      <th>CostPT</th>\n      <th>CostCar</th>\n      <th>TimeCar</th>\n      <th>NbHousehold</th>\n      <th>...</th>\n      <th>FreqTripHouseh</th>\n      <th>Region</th>\n      <th>distance_km</th>\n      <th>Choice</th>\n      <th>InVehicleTime</th>\n      <th>ModeToSchool</th>\n      <th>ReportedDuration</th>\n      <th>CoderegionCAR</th>\n      <th>age</th>\n      <th>Weight</th>\n    </tr>\n  </thead>\n  <tbody>\n    <tr>\n      <th>0</th>\n      <td>10350017</td>\n      <td>2</td>\n      <td>4</td>\n      <td>85</td>\n      <td>23</td>\n      <td>10</td>\n      <td>12.4</td>\n      <td>3.17</td>\n      <td>32</td>\n      <td>2</td>\n      <td>...</td>\n      <td>4</td>\n      <td>1</td>\n      <td>30.0</td>\n      <td>1</td>\n      <td>52</td>\n      <td>3</td>\n      <td>255</td>\n      <td>1</td>\n      <td>27</td>\n      <td>0.000379</td>\n    </tr>\n    <tr>\n      <th>1</th>\n      <td>10350020</td>\n      <td>1</td>\n      <td>4</td>\n      <td>108</td>\n      <td>26</td>\n      <td>16</td>\n      <td>12.4</td>\n      <td>3.28</td>\n      <td>30</td>\n      <td>2</td>\n      <td>...</td>\n      <td>4</td>\n      <td>1</td>\n      <td>32.0</td>\n      <td>-1</td>\n      <td>66</td>\n      <td>3</td>\n      <td>150</td>\n      <td>1</td>\n      <td>28</td>\n      <td>0.000341</td>\n    </tr>\n    <tr>\n      <th>2</th>\n      <td>10350025</td>\n      <td>11</td>\n      <td>2</td>\n      <td>82</td>\n      <td>33</td>\n      <td>5</td>\n      <td>3.0</td>\n      <td>0.45</td>\n      <td>6</td>\n      <td>-1</td>\n      <td>...</td>\n      <td>2</td>\n      <td>1</td>\n      <td>4.5</td>\n      <td>0</td>\n      <td>44</td>\n      <td>-1</td>\n      <td>20</td>\n      <td>1</td>\n      <td>-1</td>\n      <td>0.000368</td>\n    </tr>\n    <tr>\n      <th>3</th>\n      <td>10350075</td>\n      <td>1</td>\n      <td>3</td>\n      <td>107</td>\n      <td>21</td>\n      <td>31</td>\n      <td>24.0</td>\n      <td>2.36</td>\n      <td>23</td>\n      <td>2</td>\n      <td>...</td>\n      <td>1</td>\n      <td>1</td>\n      <td>25.0</td>\n      <td>1</td>\n      <td>55</td>\n      <td>-1</td>\n      <td>30</td>\n      <td>1</td>\n      <td>63</td>\n      <td>0.000368</td>\n    </tr>\n    <tr>\n      <th>4</th>\n      <td>10350085</td>\n      <td>1</td>\n      <td>5</td>\n      <td>190</td>\n      <td>116</td>\n      <td>18</td>\n      <td>10.8</td>\n      <td>1.16</td>\n      <td>14</td>\n      <td>3</td>\n      <td>...</td>\n      <td>3</td>\n      <td>1</td>\n      <td>12.5</td>\n      <td>1</td>\n      <td>56</td>\n      <td>-1</td>\n      <td>20</td>\n      <td>1</td>\n      <td>57</td>\n      <td>0.000409</td>\n    </tr>\n  </tbody>\n</table>\n<p>5 rows × 117 columns</p>\n</div>"
     },
     "execution_count": 2,
     "metadata": {},
     "output_type": "execute_result"
    }
   ],
   "source": [
    "df = pd.read_csv(\"ModeChoiceOptima.txt\", sep=\"\\t\")\n",
    "df.head()"
   ],
   "metadata": {
    "collapsed": false
   }
  },
  {
   "cell_type": "code",
   "execution_count": 3,
   "outputs": [
    {
     "data": {
      "text/plain": "                   count          mean           std           min  \\\nID                2265.0  4.506873e+07  2.402392e+07  1.035002e+07   \nDestAct           2265.0  4.139073e+00  3.559886e+00 -1.000000e+00   \nNbTransf          2265.0  2.132450e+00  2.244178e+00  0.000000e+00   \nTimePT            2265.0  1.136199e+02  9.117243e+01  0.000000e+00   \nWalkingTimePT     2265.0  4.084238e+01  2.882418e+01  0.000000e+00   \n...                  ...           ...           ...           ...   \nModeToSchool      2265.0  3.726711e+00  1.771864e+00 -2.000000e+00   \nReportedDuration  2265.0  6.295276e+01  7.887233e+01 -1.000000e+00   \nCoderegionCAR     2265.0  4.483885e+00  2.103512e+00  1.000000e+00   \nage               2265.0  4.659823e+01  1.897462e+01 -1.000000e+00   \nWeight            2265.0  4.415045e-04  5.498680e-04  7.710000e-05   \n\n                           25%           50%           75%           max  \nID                2.824097e+07  4.464044e+07  5.444027e+07  9.604054e+07  \nDestAct           1.000000e+00  3.000000e+00  7.000000e+00  1.100000e+01  \nNbTransf          0.000000e+00  2.000000e+00  4.000000e+00  1.500000e+01  \nTimePT            5.000000e+01  9.100000e+01  1.490000e+02  8.260000e+02  \nWalkingTimePT     2.000000e+01  3.400000e+01  5.300000e+01  3.060000e+02  \n...                        ...           ...           ...           ...  \nModeToSchool      3.000000e+00  4.000000e+00  5.000000e+00  8.000000e+00  \nReportedDuration  1.800000e+01  3.900000e+01  7.700000e+01  8.550000e+02  \nCoderegionCAR     3.000000e+00  5.000000e+00  6.000000e+00  8.000000e+00  \nage               3.800000e+01  4.700000e+01  6.000000e+01  8.800000e+01  \nWeight            1.257650e-04  3.213000e-04  4.091160e-04  7.572360e-03  \n\n[117 rows x 8 columns]",
      "text/html": "<div>\n<style scoped>\n    .dataframe tbody tr th:only-of-type {\n        vertical-align: middle;\n    }\n\n    .dataframe tbody tr th {\n        vertical-align: top;\n    }\n\n    .dataframe thead th {\n        text-align: right;\n    }\n</style>\n<table border=\"1\" class=\"dataframe\">\n  <thead>\n    <tr style=\"text-align: right;\">\n      <th></th>\n      <th>count</th>\n      <th>mean</th>\n      <th>std</th>\n      <th>min</th>\n      <th>25%</th>\n      <th>50%</th>\n      <th>75%</th>\n      <th>max</th>\n    </tr>\n  </thead>\n  <tbody>\n    <tr>\n      <th>ID</th>\n      <td>2265.0</td>\n      <td>4.506873e+07</td>\n      <td>2.402392e+07</td>\n      <td>1.035002e+07</td>\n      <td>2.824097e+07</td>\n      <td>4.464044e+07</td>\n      <td>5.444027e+07</td>\n      <td>9.604054e+07</td>\n    </tr>\n    <tr>\n      <th>DestAct</th>\n      <td>2265.0</td>\n      <td>4.139073e+00</td>\n      <td>3.559886e+00</td>\n      <td>-1.000000e+00</td>\n      <td>1.000000e+00</td>\n      <td>3.000000e+00</td>\n      <td>7.000000e+00</td>\n      <td>1.100000e+01</td>\n    </tr>\n    <tr>\n      <th>NbTransf</th>\n      <td>2265.0</td>\n      <td>2.132450e+00</td>\n      <td>2.244178e+00</td>\n      <td>0.000000e+00</td>\n      <td>0.000000e+00</td>\n      <td>2.000000e+00</td>\n      <td>4.000000e+00</td>\n      <td>1.500000e+01</td>\n    </tr>\n    <tr>\n      <th>TimePT</th>\n      <td>2265.0</td>\n      <td>1.136199e+02</td>\n      <td>9.117243e+01</td>\n      <td>0.000000e+00</td>\n      <td>5.000000e+01</td>\n      <td>9.100000e+01</td>\n      <td>1.490000e+02</td>\n      <td>8.260000e+02</td>\n    </tr>\n    <tr>\n      <th>WalkingTimePT</th>\n      <td>2265.0</td>\n      <td>4.084238e+01</td>\n      <td>2.882418e+01</td>\n      <td>0.000000e+00</td>\n      <td>2.000000e+01</td>\n      <td>3.400000e+01</td>\n      <td>5.300000e+01</td>\n      <td>3.060000e+02</td>\n    </tr>\n    <tr>\n      <th>...</th>\n      <td>...</td>\n      <td>...</td>\n      <td>...</td>\n      <td>...</td>\n      <td>...</td>\n      <td>...</td>\n      <td>...</td>\n      <td>...</td>\n    </tr>\n    <tr>\n      <th>ModeToSchool</th>\n      <td>2265.0</td>\n      <td>3.726711e+00</td>\n      <td>1.771864e+00</td>\n      <td>-2.000000e+00</td>\n      <td>3.000000e+00</td>\n      <td>4.000000e+00</td>\n      <td>5.000000e+00</td>\n      <td>8.000000e+00</td>\n    </tr>\n    <tr>\n      <th>ReportedDuration</th>\n      <td>2265.0</td>\n      <td>6.295276e+01</td>\n      <td>7.887233e+01</td>\n      <td>-1.000000e+00</td>\n      <td>1.800000e+01</td>\n      <td>3.900000e+01</td>\n      <td>7.700000e+01</td>\n      <td>8.550000e+02</td>\n    </tr>\n    <tr>\n      <th>CoderegionCAR</th>\n      <td>2265.0</td>\n      <td>4.483885e+00</td>\n      <td>2.103512e+00</td>\n      <td>1.000000e+00</td>\n      <td>3.000000e+00</td>\n      <td>5.000000e+00</td>\n      <td>6.000000e+00</td>\n      <td>8.000000e+00</td>\n    </tr>\n    <tr>\n      <th>age</th>\n      <td>2265.0</td>\n      <td>4.659823e+01</td>\n      <td>1.897462e+01</td>\n      <td>-1.000000e+00</td>\n      <td>3.800000e+01</td>\n      <td>4.700000e+01</td>\n      <td>6.000000e+01</td>\n      <td>8.800000e+01</td>\n    </tr>\n    <tr>\n      <th>Weight</th>\n      <td>2265.0</td>\n      <td>4.415045e-04</td>\n      <td>5.498680e-04</td>\n      <td>7.710000e-05</td>\n      <td>1.257650e-04</td>\n      <td>3.213000e-04</td>\n      <td>4.091160e-04</td>\n      <td>7.572360e-03</td>\n    </tr>\n  </tbody>\n</table>\n<p>117 rows × 8 columns</p>\n</div>"
     },
     "execution_count": 3,
     "metadata": {},
     "output_type": "execute_result"
    }
   ],
   "source": [
    "df.describe().T"
   ],
   "metadata": {
    "collapsed": false
   }
  },
  {
   "cell_type": "markdown",
   "source": [
    "### Compare machine learning methods\n",
    "\n",
    " - Neural Networks: based on current literature this method seems to provide the highest accuracy. It can be prone to overfitting, however, and is difficult to predict.\n",
    " - Random Forests: is a method that creates multiple decision trees, thus it is more accurate and less prone to overfitting, though also complex to interpret.\n",
    " - Naïve Bayes: is seemingly the least accurate as it assumes that each input factor is independent of the other input factors. On the other hand, it is quite interpretable however, according to Hagenauer and Helbich (2017). This method can be competitive with more complex methods in some cases.\n"
   ],
   "metadata": {
    "collapsed": false
   }
  },
  {
   "cell_type": "code",
   "execution_count": 4,
   "outputs": [],
   "source": [
    "# Predict the choice using the following methods:\n",
    "# - Naive Bayes\n",
    "# - Random Forests\n",
    "# - Neural Networks\n",
    "# - Logistic Regression\n",
    "# - K-Nearest Neighbors\n",
    "# - Support Vector Machines\n",
    "# - Decision Trees\n",
    "# - Gradient Boosting\n",
    "# - AdaBoost\n",
    "\n",
    "from sklearn.model_selection import train_test_split\n",
    "from sklearn.metrics import accuracy_score\n",
    "\n",
    "from sklearn.naive_bayes import GaussianNB\n",
    "from sklearn.ensemble import RandomForestClassifier\n",
    "from sklearn.neural_network import MLPClassifier\n",
    "from sklearn.linear_model import LogisticRegression\n",
    "from sklearn.neighbors import KNeighborsClassifier\n",
    "from sklearn.svm import SVC\n",
    "from sklearn.tree import DecisionTreeClassifier\n",
    "from sklearn.ensemble import GradientBoostingClassifier\n",
    "from sklearn.ensemble import AdaBoostClassifier"
   ],
   "metadata": {
    "collapsed": false
   }
  },
  {
   "cell_type": "code",
   "execution_count": 5,
   "outputs": [],
   "source": [
    "# Split the data into training and test sets\n",
    "X = df.drop('Choice', axis=1)\n",
    "y = df['Choice']\n",
    "X_train, X_test, y_train, y_test = train_test_split(X, y, test_size=0.2, random_state=42)"
   ],
   "metadata": {
    "collapsed": false
   }
  },
  {
   "cell_type": "code",
   "execution_count": 6,
   "outputs": [],
   "source": [
    "# Create a list of the methods to be used\n",
    "methods = [\n",
    "    GaussianNB(),\n",
    "    RandomForestClassifier(),\n",
    "    MLPClassifier(),\n",
    "    LogisticRegression(),\n",
    "    KNeighborsClassifier(),\n",
    "    SVC(),\n",
    "    DecisionTreeClassifier(),\n",
    "    GradientBoostingClassifier(),\n",
    "    AdaBoostClassifier()\n",
    "]"
   ],
   "metadata": {
    "collapsed": false
   }
  },
  {
   "cell_type": "code",
   "execution_count": 7,
   "outputs": [],
   "source": [
    "# Create a list of the method names\n",
    "method_names = [\n",
    "    'Naive Bayes',\n",
    "    'Random Forests',\n",
    "    'Neural Networks',\n",
    "    'Logistic Regression',\n",
    "    'K-Nearest Neighbors',\n",
    "    'Support Vector Machines',\n",
    "    'Decision Trees',\n",
    "    'Gradient Boosting',\n",
    "    'AdaBoost'\n",
    "]"
   ],
   "metadata": {
    "collapsed": false
   }
  },
  {
   "cell_type": "code",
   "execution_count": 8,
   "outputs": [],
   "source": [
    "# Create a dictionary to store the method accuracies\n",
    "method_accuracies = {}"
   ],
   "metadata": {
    "collapsed": false
   }
  },
  {
   "cell_type": "code",
   "execution_count": 9,
   "outputs": [
    {
     "name": "stdout",
     "output_type": "stream",
     "text": [
      "Naive Bayes 0.5121412803532008\n",
      "Random Forests 0.7041942604856513\n",
      "Neural Networks 0.4216335540838852\n",
      "Logistic Regression 0.4878587196467991\n",
      "K-Nearest Neighbors 0.4922737306843267\n",
      "Support Vector Machines 0.5121412803532008\n",
      "Decision Trees 0.5849889624724062\n",
      "Gradient Boosting 0.7439293598233996\n",
      "AdaBoost 0.6048565121412803\n"
     ]
    }
   ],
   "source": [
    "# Loop through the methods and print the accuracy\n",
    "for method in methods:\n",
    "    method.fit(X_train, y_train)\n",
    "    y_pred = method.predict(X_test)\n",
    "    method_accuracies[method_names[methods.index(method)]] = accuracy_score(y_test, y_pred)\n",
    "    print(method_names[methods.index(method)], accuracy_score(y_test, y_pred))"
   ],
   "metadata": {
    "collapsed": false
   }
  },
  {
   "cell_type": "code",
   "execution_count": 10,
   "outputs": [],
   "source": [
    "# Create a dataframe from the dictionary\n",
    "df_accuracies = pd.DataFrame.from_dict(method_accuracies, orient='index', columns=['Accuracy'])"
   ],
   "metadata": {
    "collapsed": false
   }
  },
  {
   "cell_type": "markdown",
   "source": [
    "### Handle missing values\n",
    "Handle missing values. Missing values are currently represented as -1. Replace these with the mean of the column. Then, re-run the machine learning methods and compare the results."
   ],
   "metadata": {
    "collapsed": false
   }
  },
  {
   "cell_type": "code",
   "execution_count": 11,
   "outputs": [
    {
     "name": "stdout",
     "output_type": "stream",
     "text": [
      "588 of 2265 rows dropped, 1677 rows remaining.\n"
     ]
    }
   ],
   "source": [
    "# Drop the rows with 3 or more missing values. Missing values are represented as -1.\n",
    "df2 = df.drop(df[df.isin([-1]).sum(axis=1) >= 3].index)\n",
    "\n",
    "# Print the number of dropped columns and total columns remaining, using f-string formatting.\n",
    "print(f\"{df.shape[0] - df2.shape[0]} of {df.shape[0]} rows dropped, {df2.shape[0]} rows remaining.\")"
   ],
   "metadata": {
    "collapsed": false
   }
  },
  {
   "cell_type": "code",
   "execution_count": 12,
   "outputs": [],
   "source": [
    "# Replace the missing values with the mean of the column, rounded and saved as int\n",
    "df2 = df2.replace(-1, df2.mean().round().astype(int))"
   ],
   "metadata": {
    "collapsed": false
   }
  },
  {
   "cell_type": "code",
   "execution_count": 13,
   "outputs": [],
   "source": [
    "# Split the data into training and test sets\n",
    "X = df2.drop('Choice', axis=1)\n",
    "y = df2['Choice']\n",
    "X_train, X_test, y_train, y_test = train_test_split(X, y, test_size=0.2, random_state=42)"
   ],
   "metadata": {
    "collapsed": false
   }
  },
  {
   "cell_type": "code",
   "execution_count": 14,
   "outputs": [],
   "source": [
    "# Create a new dictionary for the accuracies\n",
    "method_accuracies2 = {}"
   ],
   "metadata": {
    "collapsed": false
   }
  },
  {
   "cell_type": "code",
   "execution_count": 15,
   "outputs": [
    {
     "name": "stdout",
     "output_type": "stream",
     "text": [
      "Naive Bayes 0.7232142857142857\n",
      "Random Forests 0.8571428571428571\n",
      "Neural Networks 0.7232142857142857\n",
      "Logistic Regression 0.7202380952380952\n",
      "K-Nearest Neighbors 0.7351190476190477\n",
      "Support Vector Machines 0.7232142857142857\n",
      "Decision Trees 0.7738095238095238\n",
      "Gradient Boosting 0.875\n",
      "AdaBoost 0.7946428571428571\n"
     ]
    }
   ],
   "source": [
    "# Loop through the methods and print the accuracy\n",
    "for method in methods:\n",
    "    method.fit(X_train, y_train)\n",
    "    y_pred = method.predict(X_test)\n",
    "    method_accuracies2[method_names[methods.index(method)]] = accuracy_score(y_test, y_pred)\n",
    "    print(method_names[methods.index(method)], accuracy_score(y_test, y_pred))"
   ],
   "metadata": {
    "collapsed": false
   }
  },
  {
   "cell_type": "code",
   "execution_count": 16,
   "outputs": [
    {
     "data": {
      "text/plain": "                         Accuracy  Accuracy (Missing Values Replaced)  \\\nNaive Bayes              0.512141                            0.723214   \nRandom Forests           0.704194                            0.857143   \nNeural Networks          0.421634                            0.723214   \nLogistic Regression      0.487859                            0.720238   \nK-Nearest Neighbors      0.492274                            0.735119   \nSupport Vector Machines  0.512141                            0.723214   \nDecision Trees           0.584989                            0.773810   \nGradient Boosting        0.743929                            0.875000   \nAdaBoost                 0.604857                            0.794643   \n\n                         Improvement  \nNaive Bayes                 0.211073  \nRandom Forests              0.152949  \nNeural Networks             0.301581  \nLogistic Regression         0.232379  \nK-Nearest Neighbors         0.242845  \nSupport Vector Machines     0.211073  \nDecision Trees              0.188821  \nGradient Boosting           0.131071  \nAdaBoost                    0.189786  ",
      "text/html": "<div>\n<style scoped>\n    .dataframe tbody tr th:only-of-type {\n        vertical-align: middle;\n    }\n\n    .dataframe tbody tr th {\n        vertical-align: top;\n    }\n\n    .dataframe thead th {\n        text-align: right;\n    }\n</style>\n<table border=\"1\" class=\"dataframe\">\n  <thead>\n    <tr style=\"text-align: right;\">\n      <th></th>\n      <th>Accuracy</th>\n      <th>Accuracy (Missing Values Replaced)</th>\n      <th>Improvement</th>\n    </tr>\n  </thead>\n  <tbody>\n    <tr>\n      <th>Naive Bayes</th>\n      <td>0.512141</td>\n      <td>0.723214</td>\n      <td>0.211073</td>\n    </tr>\n    <tr>\n      <th>Random Forests</th>\n      <td>0.704194</td>\n      <td>0.857143</td>\n      <td>0.152949</td>\n    </tr>\n    <tr>\n      <th>Neural Networks</th>\n      <td>0.421634</td>\n      <td>0.723214</td>\n      <td>0.301581</td>\n    </tr>\n    <tr>\n      <th>Logistic Regression</th>\n      <td>0.487859</td>\n      <td>0.720238</td>\n      <td>0.232379</td>\n    </tr>\n    <tr>\n      <th>K-Nearest Neighbors</th>\n      <td>0.492274</td>\n      <td>0.735119</td>\n      <td>0.242845</td>\n    </tr>\n    <tr>\n      <th>Support Vector Machines</th>\n      <td>0.512141</td>\n      <td>0.723214</td>\n      <td>0.211073</td>\n    </tr>\n    <tr>\n      <th>Decision Trees</th>\n      <td>0.584989</td>\n      <td>0.773810</td>\n      <td>0.188821</td>\n    </tr>\n    <tr>\n      <th>Gradient Boosting</th>\n      <td>0.743929</td>\n      <td>0.875000</td>\n      <td>0.131071</td>\n    </tr>\n    <tr>\n      <th>AdaBoost</th>\n      <td>0.604857</td>\n      <td>0.794643</td>\n      <td>0.189786</td>\n    </tr>\n  </tbody>\n</table>\n</div>"
     },
     "execution_count": 16,
     "metadata": {},
     "output_type": "execute_result"
    }
   ],
   "source": [
    "# Add a new column to the dataframe\n",
    "df_accuracies['Accuracy (Missing Values Replaced)'] = method_accuracies2.values()\n",
    "\n",
    "# Calculate the difference in accuracy\n",
    "df_accuracies['Improvement'] = df_accuracies['Accuracy (Missing Values Replaced)'] - df_accuracies['Accuracy']\n",
    "df_accuracies"
   ],
   "metadata": {
    "collapsed": false
   }
  },
  {
   "cell_type": "code",
   "execution_count": 17,
   "outputs": [
    {
     "data": {
      "text/plain": "                         Accuracy  Accuracy (Missing Values Replaced)  \\\nGradient Boosting        0.743929                            0.875000   \nRandom Forests           0.704194                            0.857143   \nAdaBoost                 0.604857                            0.794643   \nDecision Trees           0.584989                            0.773810   \nK-Nearest Neighbors      0.492274                            0.735119   \nNaive Bayes              0.512141                            0.723214   \nNeural Networks          0.421634                            0.723214   \nSupport Vector Machines  0.512141                            0.723214   \nLogistic Regression      0.487859                            0.720238   \n\n                         Improvement  \nGradient Boosting           0.131071  \nRandom Forests              0.152949  \nAdaBoost                    0.189786  \nDecision Trees              0.188821  \nK-Nearest Neighbors         0.242845  \nNaive Bayes                 0.211073  \nNeural Networks             0.301581  \nSupport Vector Machines     0.211073  \nLogistic Regression         0.232379  ",
      "text/html": "<div>\n<style scoped>\n    .dataframe tbody tr th:only-of-type {\n        vertical-align: middle;\n    }\n\n    .dataframe tbody tr th {\n        vertical-align: top;\n    }\n\n    .dataframe thead th {\n        text-align: right;\n    }\n</style>\n<table border=\"1\" class=\"dataframe\">\n  <thead>\n    <tr style=\"text-align: right;\">\n      <th></th>\n      <th>Accuracy</th>\n      <th>Accuracy (Missing Values Replaced)</th>\n      <th>Improvement</th>\n    </tr>\n  </thead>\n  <tbody>\n    <tr>\n      <th>Gradient Boosting</th>\n      <td>0.743929</td>\n      <td>0.875000</td>\n      <td>0.131071</td>\n    </tr>\n    <tr>\n      <th>Random Forests</th>\n      <td>0.704194</td>\n      <td>0.857143</td>\n      <td>0.152949</td>\n    </tr>\n    <tr>\n      <th>AdaBoost</th>\n      <td>0.604857</td>\n      <td>0.794643</td>\n      <td>0.189786</td>\n    </tr>\n    <tr>\n      <th>Decision Trees</th>\n      <td>0.584989</td>\n      <td>0.773810</td>\n      <td>0.188821</td>\n    </tr>\n    <tr>\n      <th>K-Nearest Neighbors</th>\n      <td>0.492274</td>\n      <td>0.735119</td>\n      <td>0.242845</td>\n    </tr>\n    <tr>\n      <th>Naive Bayes</th>\n      <td>0.512141</td>\n      <td>0.723214</td>\n      <td>0.211073</td>\n    </tr>\n    <tr>\n      <th>Neural Networks</th>\n      <td>0.421634</td>\n      <td>0.723214</td>\n      <td>0.301581</td>\n    </tr>\n    <tr>\n      <th>Support Vector Machines</th>\n      <td>0.512141</td>\n      <td>0.723214</td>\n      <td>0.211073</td>\n    </tr>\n    <tr>\n      <th>Logistic Regression</th>\n      <td>0.487859</td>\n      <td>0.720238</td>\n      <td>0.232379</td>\n    </tr>\n  </tbody>\n</table>\n</div>"
     },
     "execution_count": 17,
     "metadata": {},
     "output_type": "execute_result"
    }
   ],
   "source": [
    "# Sort the dataframe by the accuracy (missing values replaced)\n",
    "df_accuracies.sort_values(by='Accuracy (Missing Values Replaced)', ascending=False)"
   ],
   "metadata": {
    "collapsed": false
   }
  },
  {
   "cell_type": "code",
   "execution_count": 18,
   "outputs": [
    {
     "name": "stderr",
     "output_type": "stream",
     "text": [
      "[NbConvertApp] Converting notebook test.ipynb to html\n",
      "[NbConvertApp] Writing 615341 bytes to test.html\n"
     ]
    }
   ],
   "source": [
    "# Convert this notebook to html\n",
    "!jupyter nbconvert --to html \"test.ipynb\""
   ],
   "metadata": {
    "collapsed": false
   }
  }
 ],
 "metadata": {
  "kernelspec": {
   "display_name": "Python 3",
   "language": "python",
   "name": "python3"
  },
  "language_info": {
   "codemirror_mode": {
    "name": "ipython",
    "version": 2
   },
   "file_extension": ".py",
   "mimetype": "text/x-python",
   "name": "python",
   "nbconvert_exporter": "python",
   "pygments_lexer": "ipython2",
   "version": "2.7.6"
  }
 },
 "nbformat": 4,
 "nbformat_minor": 0
}
